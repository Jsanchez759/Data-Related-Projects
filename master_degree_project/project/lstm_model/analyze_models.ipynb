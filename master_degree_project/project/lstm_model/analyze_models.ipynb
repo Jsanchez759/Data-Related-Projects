{
 "cells": [
  {
   "cell_type": "code",
   "execution_count": 1,
   "metadata": {},
   "outputs": [],
   "source": [
    "import tensorflow as tf\n",
    "import pandas as pd\n",
    "import numpy as np\n",
    "import matplotlib.pyplot as plt\n",
    "import os"
   ]
  },
  {
   "attachments": {},
   "cell_type": "markdown",
   "metadata": {},
   "source": [
    "Dibujar modelos"
   ]
  },
  {
   "cell_type": "code",
   "execution_count": 2,
   "metadata": {},
   "outputs": [],
   "source": [
    "os.chdir('..')\n",
    "def root_mean_squared_error(y_true, y_pred):\n",
    "    rmse = tf.math.sqrt(tf.math.reduce_mean(tf.square(y_pred-y_true)))\n",
    "    return rmse"
   ]
  },
  {
   "cell_type": "code",
   "execution_count": 3,
   "metadata": {},
   "outputs": [],
   "source": [
    "modelo = tf.keras.models.load_model('lstm_model/tunning_save/best_model_0.7.h5', \n",
    "                                    custom_objects={'root_mean_squared_error': root_mean_squared_error})"
   ]
  },
  {
   "cell_type": "code",
   "execution_count": 4,
   "metadata": {},
   "outputs": [
    {
     "name": "stdout",
     "output_type": "stream",
     "text": [
      "Model: \"sequential_1\"\n",
      "_________________________________________________________________\n",
      " Layer (type)                Output Shape              Param #   \n",
      "=================================================================\n",
      " lstm_1 (LSTM)               (None, 32)                4352      \n",
      "                                                                 \n",
      " dropout_1 (Dropout)         (None, 32)                0         \n",
      "                                                                 \n",
      " dense_1 (Dense)             (None, 24)                792       \n",
      "                                                                 \n",
      "=================================================================\n",
      "Total params: 5,144\n",
      "Trainable params: 5,144\n",
      "Non-trainable params: 0\n",
      "_________________________________________________________________\n"
     ]
    }
   ],
   "source": [
    "modelo.summary()"
   ]
  },
  {
   "cell_type": "code",
   "execution_count": 6,
   "metadata": {},
   "outputs": [
    {
     "data": {
      "image/png": "[encoded data removed]",
      "text/plain": [
       "<IPython.core.display.Image object>"
      ]
     },
     "execution_count": 6,
     "metadata": {},
     "output_type": "execute_result"
    }
   ],
   "source": [
    "dot_img_file = 'lstm_model/tunning_save/best.png'\n",
    "tf.keras.utils.plot_model(modelo, to_file=dot_img_file, show_shapes=True)"
   ]
  },
  {
   "cell_type": "code",
   "execution_count": 3,
   "metadata": {},
   "outputs": [
    {
     "data": {
      "text/html": [
       "<div>\n",
       "<style scoped>\n",
       "    .dataframe tbody tr th:only-of-type {\n",
       "        vertical-align: middle;\n",
       "    }\n",
       "\n",
       "    .dataframe tbody tr th {\n",
       "        vertical-align: top;\n",
       "    }\n",
       "\n",
       "    .dataframe thead th {\n",
       "        text-align: right;\n",
       "    }\n",
       "</style>\n",
       "<table border=\"1\" class=\"dataframe\">\n",
       "  <thead>\n",
       "    <tr style=\"text-align: right;\">\n",
       "      <th></th>\n",
       "      <th>Unnamed: 0.1</th>\n",
       "      <th>Unnamed: 0</th>\n",
       "      <th>trainig_size</th>\n",
       "      <th>model</th>\n",
       "      <th>type</th>\n",
       "      <th>prediction_time</th>\n",
       "      <th>rmse_trainig</th>\n",
       "      <th>rmse_validation</th>\n",
       "      <th>rmse_test</th>\n",
       "      <th>mean_MAE</th>\n",
       "      <th>r2</th>\n",
       "      <th>mean_RMSE</th>\n",
       "      <th>mean_MAPE</th>\n",
       "      <th>mean_rMAE</th>\n",
       "      <th>architecture</th>\n",
       "      <th>training_time</th>\n",
       "    </tr>\n",
       "  </thead>\n",
       "  <tbody>\n",
       "    <tr>\n",
       "      <th>0</th>\n",
       "      <td>0</td>\n",
       "      <td>0</td>\n",
       "      <td>0.7</td>\n",
       "      <td>lstm</td>\n",
       "      <td>tunning</td>\n",
       "      <td>3.014056</td>\n",
       "      <td>0.015780</td>\n",
       "      <td>0.022292</td>\n",
       "      <td>0.026847</td>\n",
       "      <td>29.590811</td>\n",
       "      <td>0.903465</td>\n",
       "      <td>49.958640</td>\n",
       "      <td>13.404895</td>\n",
       "      <td>3.289368</td>\n",
       "      <td>[(32, 'units'), (0.0009, 'lr'), (0.43239886984...</td>\n",
       "      <td>189.566262</td>\n",
       "    </tr>\n",
       "    <tr>\n",
       "      <th>1</th>\n",
       "      <td>0</td>\n",
       "      <td>0</td>\n",
       "      <td>0.8</td>\n",
       "      <td>lstm</td>\n",
       "      <td>tunning</td>\n",
       "      <td>4.381839</td>\n",
       "      <td>0.016367</td>\n",
       "      <td>0.029638</td>\n",
       "      <td>0.027187</td>\n",
       "      <td>29.048055</td>\n",
       "      <td>0.892093</td>\n",
       "      <td>52.820466</td>\n",
       "      <td>13.672403</td>\n",
       "      <td>3.228905</td>\n",
       "      <td>[(64, 'units'), (1.8121807387928878e-05, 'lr')...</td>\n",
       "      <td>232.484873</td>\n",
       "    </tr>\n",
       "    <tr>\n",
       "      <th>2</th>\n",
       "      <td>0</td>\n",
       "      <td>0</td>\n",
       "      <td>0.9</td>\n",
       "      <td>lstm</td>\n",
       "      <td>tunning</td>\n",
       "      <td>5.499035</td>\n",
       "      <td>0.015121</td>\n",
       "      <td>0.016051</td>\n",
       "      <td>0.031310</td>\n",
       "      <td>32.586721</td>\n",
       "      <td>0.898874</td>\n",
       "      <td>57.965274</td>\n",
       "      <td>13.100258</td>\n",
       "      <td>2.673454</td>\n",
       "      <td>[(64, 'units'), (0.00047857736313258644, 'lr')...</td>\n",
       "      <td>1171.779945</td>\n",
       "    </tr>\n",
       "  </tbody>\n",
       "</table>\n",
       "</div>"
      ],
      "text/plain": [
       "   Unnamed: 0.1  Unnamed: 0  trainig_size model     type  prediction_time  \\\n",
       "0             0           0           0.7  lstm  tunning         3.014056   \n",
       "1             0           0           0.8  lstm  tunning         4.381839   \n",
       "2             0           0           0.9  lstm  tunning         5.499035   \n",
       "\n",
       "   rmse_trainig  rmse_validation  rmse_test   mean_MAE        r2  mean_RMSE  \\\n",
       "0      0.015780         0.022292   0.026847  29.590811  0.903465  49.958640   \n",
       "1      0.016367         0.029638   0.027187  29.048055  0.892093  52.820466   \n",
       "2      0.015121         0.016051   0.031310  32.586721  0.898874  57.965274   \n",
       "\n",
       "   mean_MAPE  mean_rMAE                                       architecture  \\\n",
       "0  13.404895   3.289368  [(32, 'units'), (0.0009, 'lr'), (0.43239886984...   \n",
       "1  13.672403   3.228905  [(64, 'units'), (1.8121807387928878e-05, 'lr')...   \n",
       "2  13.100258   2.673454  [(64, 'units'), (0.00047857736313258644, 'lr')...   \n",
       "\n",
       "   training_time  \n",
       "0     189.566262  \n",
       "1     232.484873  \n",
       "2    1171.779945  "
      ]
     },
     "execution_count": 3,
     "metadata": {},
     "output_type": "execute_result"
    }
   ],
   "source": [
    "pd.read_csv('lstm_model/tunning_Save/df_results_best.csv')"
   ]
  },
  {
   "cell_type": "code",
   "execution_count": 8,
   "metadata": {},
   "outputs": [
    {
     "data": {
      "text/html": [
       "<div>\n",
       "<style scoped>\n",
       "    .dataframe tbody tr th:only-of-type {\n",
       "        vertical-align: middle;\n",
       "    }\n",
       "\n",
       "    .dataframe tbody tr th {\n",
       "        vertical-align: top;\n",
       "    }\n",
       "\n",
       "    .dataframe thead th {\n",
       "        text-align: right;\n",
       "    }\n",
       "</style>\n",
       "<table border=\"1\" class=\"dataframe\">\n",
       "  <thead>\n",
       "    <tr style=\"text-align: right;\">\n",
       "      <th></th>\n",
       "      <th>Unnamed: 0</th>\n",
       "      <th>trainig_size</th>\n",
       "      <th>model</th>\n",
       "      <th>type</th>\n",
       "      <th>training_time</th>\n",
       "      <th>prediction_time</th>\n",
       "      <th>rmse_trainig</th>\n",
       "      <th>rmse_validation</th>\n",
       "      <th>rmse_test</th>\n",
       "      <th>mean_MAE</th>\n",
       "      <th>r2</th>\n",
       "      <th>mean_RMSE</th>\n",
       "      <th>mean_MAPE</th>\n",
       "      <th>mean_rMAE</th>\n",
       "    </tr>\n",
       "  </thead>\n",
       "  <tbody>\n",
       "    <tr>\n",
       "      <th>0</th>\n",
       "      <td>0</td>\n",
       "      <td>0.7</td>\n",
       "      <td>lstm</td>\n",
       "      <td>base</td>\n",
       "      <td>152.689480</td>\n",
       "      <td>3.882208</td>\n",
       "      <td>0.015195</td>\n",
       "      <td>0.022343</td>\n",
       "      <td>0.025872</td>\n",
       "      <td>27.398119</td>\n",
       "      <td>0.894865</td>\n",
       "      <td>52.136466</td>\n",
       "      <td>12.793539</td>\n",
       "      <td>3.045625</td>\n",
       "    </tr>\n",
       "    <tr>\n",
       "      <th>1</th>\n",
       "      <td>1</td>\n",
       "      <td>0.8</td>\n",
       "      <td>lstm</td>\n",
       "      <td>base</td>\n",
       "      <td>151.128558</td>\n",
       "      <td>4.402499</td>\n",
       "      <td>0.015742</td>\n",
       "      <td>0.029643</td>\n",
       "      <td>0.026446</td>\n",
       "      <td>27.867695</td>\n",
       "      <td>0.889369</td>\n",
       "      <td>53.483087</td>\n",
       "      <td>12.783056</td>\n",
       "      <td>3.097700</td>\n",
       "    </tr>\n",
       "    <tr>\n",
       "      <th>2</th>\n",
       "      <td>2</td>\n",
       "      <td>0.9</td>\n",
       "      <td>lstm</td>\n",
       "      <td>base</td>\n",
       "      <td>114.740002</td>\n",
       "      <td>8.506740</td>\n",
       "      <td>0.017246</td>\n",
       "      <td>0.017422</td>\n",
       "      <td>0.035576</td>\n",
       "      <td>37.010263</td>\n",
       "      <td>0.863358</td>\n",
       "      <td>67.379821</td>\n",
       "      <td>15.323598</td>\n",
       "      <td>3.036366</td>\n",
       "    </tr>\n",
       "  </tbody>\n",
       "</table>\n",
       "</div>"
      ],
      "text/plain": [
       "   Unnamed: 0  trainig_size model  type  training_time  prediction_time  \\\n",
       "0           0           0.7  lstm  base     152.689480         3.882208   \n",
       "1           1           0.8  lstm  base     151.128558         4.402499   \n",
       "2           2           0.9  lstm  base     114.740002         8.506740   \n",
       "\n",
       "   rmse_trainig  rmse_validation  rmse_test   mean_MAE        r2  mean_RMSE  \\\n",
       "0      0.015195         0.022343   0.025872  27.398119  0.894865  52.136466   \n",
       "1      0.015742         0.029643   0.026446  27.867695  0.889369  53.483087   \n",
       "2      0.017246         0.017422   0.035576  37.010263  0.863358  67.379821   \n",
       "\n",
       "   mean_MAPE  mean_rMAE  \n",
       "0  12.793539   3.045625  \n",
       "1  12.783056   3.097700  \n",
       "2  15.323598   3.036366  "
      ]
     },
     "execution_count": 8,
     "metadata": {},
     "output_type": "execute_result"
    }
   ],
   "source": [
    "pd.read_csv('lstm_model/bases_model/df_results_bases.csv')"
   ]
  }
 ],
 "metadata": {
  "kernelspec": {
   "display_name": "tesis_project",
   "language": "python",
   "name": "python3"
  },
  "language_info": {
   "codemirror_mode": {
    "name": "ipython",
    "version": 3
   },
   "file_extension": ".py",
   "mimetype": "text/x-python",
   "name": "python",
   "nbconvert_exporter": "python",
   "pygments_lexer": "ipython3",
   "version": "3.11.3"
  },
  "orig_nbformat": 4
 },
 "nbformat": 4,
 "nbformat_minor": 2
}
