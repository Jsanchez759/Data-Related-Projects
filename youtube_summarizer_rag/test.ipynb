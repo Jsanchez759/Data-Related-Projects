{
 "cells": [
  {
   "cell_type": "code",
   "execution_count": null,
   "id": "04f1e0ab",
   "metadata": {},
   "outputs": [],
   "source": [
    "from youtube_transcript_api import YouTubeTranscriptApi, NoTranscriptFound"
   ]
  },
  {
   "cell_type": "code",
   "execution_count": 13,
   "id": "1fb43aa7",
   "metadata": {},
   "outputs": [],
   "source": [
    "ytt_api = YouTubeTranscriptApi()\n",
    "\n",
    "transcripts = ytt_api.fetch(\"dGby9BH9bMc\")"
   ]
  },
  {
   "cell_type": "code",
   "execution_count": 14,
   "id": "a697605a",
   "metadata": {},
   "outputs": [],
   "source": [
    "transcripts = transcripts.to_raw_data()"
   ]
  },
  {
   "cell_type": "code",
   "execution_count": 16,
   "id": "3ec4ea8d",
   "metadata": {},
   "outputs": [
    {
     "data": {
      "text/plain": [
       "[{'text': '- [Instructor] Hi, everybody.', 'start': 0.6, 'duration': 1.02},\n",
       " {'text': \"Today, I'm going to show you the new way\",\n",
       "  'start': 1.62,\n",
       "  'duration': 2.58},\n",
       " {'text': 'to see transcripts on YouTube videos.',\n",
       "  'start': 4.2,\n",
       "  'duration': 3.24},\n",
       " {'text': 'YouTube recently changed the way', 'start': 7.44, 'duration': 1.53},\n",
       " {'text': 'that you can see the transcripts,',\n",
       "  'start': 8.97,\n",
       "  'duration': 2.01},\n",
       " {'text': 'and they made it a lot easier.', 'start': 10.98, 'duration': 1.86},\n",
       " {'text': \"So here's how you do it.\", 'start': 12.84, 'duration': 1.95},\n",
       " {'text': 'You open up the video you want,', 'start': 14.79, 'duration': 2.01},\n",
       " {'text': 'then you scroll down to the description.',\n",
       "  'start': 16.8,\n",
       "  'duration': 4.11},\n",
       " {'text': 'Now, in the past, you would\\nclick onto these three dots',\n",
       "  'start': 20.91,\n",
       "  'duration': 4.32},\n",
       " {'text': 'to view the transcript.', 'start': 25.23, 'duration': 1.62},\n",
       " {'text': \"But that's totally different now.\",\n",
       "  'start': 26.85,\n",
       "  'duration': 2.07},\n",
       " {'text': 'You do not click on the three dots.',\n",
       "  'start': 28.92,\n",
       "  'duration': 2.34},\n",
       " {'text': 'What you do is you go to the\\ndescription and click \"More.\"',\n",
       "  'start': 31.26,\n",
       "  'duration': 4.5},\n",
       " {'text': 'Then you scroll all the way to the bottom',\n",
       "  'start': 35.76,\n",
       "  'duration': 3.78},\n",
       " {'text': 'of the items in the description,',\n",
       "  'start': 39.54,\n",
       "  'duration': 1.833},\n",
       " {'text': \"and there, you'll see a little button\",\n",
       "  'start': 43.32,\n",
       "  'duration': 2.13},\n",
       " {'text': 'that says \"Show Transcript.\"', 'start': 45.45, 'duration': 3.03},\n",
       " {'text': 'You click onto that button,', 'start': 48.48, 'duration': 1.95},\n",
       " {'text': 'and then YouTube takes you automatically',\n",
       "  'start': 50.43,\n",
       "  'duration': 2.1},\n",
       " {'text': 'back up to the video\\nand displays transcript',\n",
       "  'start': 52.53,\n",
       "  'duration': 3.78},\n",
       " {'text': 'along the side of the video.', 'start': 56.31, 'duration': 2.16},\n",
       " {'text': 'And if we play the video, we\\nwill see that the transcript',\n",
       "  'start': 58.47,\n",
       "  'duration': 5.0},\n",
       " {'text': 'follows the narration in the video',\n",
       "  'start': 63.57,\n",
       "  'duration': 1.98},\n",
       " {'text': 'and shows you all of the timestamps.',\n",
       "  'start': 65.55,\n",
       "  'duration': 2.31},\n",
       " {'text': '- [Podcaster] Between the psychology\\nof self, self-exploration,',\n",
       "  'start': 67.86,\n",
       "  'duration': 3.42},\n",
       " {'text': 'and the psychology of human interaction,',\n",
       "  'start': 71.28,\n",
       "  'duration': 2.04},\n",
       " {'text': 'all rooted in history and modern.',\n",
       "  'start': 73.32,\n",
       "  'duration': 2.73},\n",
       " {'text': \"- [Instructor] So that's\\nhow you see the transcript.\",\n",
       "  'start': 76.05,\n",
       "  'duration': 2.94},\n",
       " {'text': 'Some users want to remove the\\ntimestamps in the transcript.',\n",
       "  'start': 78.99,\n",
       "  'duration': 5.0},\n",
       " {'text': 'To do that, you can\\nclick these three dots,',\n",
       "  'start': 84.39,\n",
       "  'duration': 2.85},\n",
       " {'text': 'click \"Toggle Timestamps,\"', 'start': 87.24, 'duration': 2.58},\n",
       " {'text': 'and then you see that the\\ntimestamps have been removed.',\n",
       "  'start': 89.82,\n",
       "  'duration': 3.36},\n",
       " {'text': 'One question that a lot of YouTubers have',\n",
       "  'start': 93.18,\n",
       "  'duration': 2.91},\n",
       " {'text': 'is whether they can\\nview a video transcript',\n",
       "  'start': 96.09,\n",
       "  'duration': 3.0},\n",
       " {'text': 'in multiple languages.\\nUnfortunately, right now,',\n",
       "  'start': 99.09,\n",
       "  'duration': 4.41},\n",
       " {'text': 'the answer is often \"no,\"', 'start': 103.5, 'duration': 2.52},\n",
       " {'text': 'because YouTube does not\\nauto-translate transcripts.',\n",
       "  'start': 106.02,\n",
       "  'duration': 5.0},\n",
       " {'text': 'Luckily, YouTube does\\nauto-translate subtitles',\n",
       "  'start': 111.42,\n",
       "  'duration': 4.59},\n",
       " {'text': 'and captions, just not the transcripts.',\n",
       "  'start': 116.01,\n",
       "  'duration': 3.96},\n",
       " {'text': 'So how do you know the difference?',\n",
       "  'start': 119.97,\n",
       "  'duration': 2.16},\n",
       " {'text': 'To see whether I can view this transcript',\n",
       "  'start': 122.13,\n",
       "  'duration': 2.37},\n",
       " {'text': \"in other languages, I'll\\ngo to the bottom here,\",\n",
       "  'start': 124.5,\n",
       "  'duration': 3.75},\n",
       " {'text': 'and you see that the\\nlanguage we are seeing,',\n",
       "  'start': 128.25,\n",
       "  'duration': 3.0},\n",
       " {'text': 'the transcript in is English.', 'start': 131.25, 'duration': 2.46},\n",
       " {'text': 'If I click on to English, nothing happens.',\n",
       "  'start': 133.71,\n",
       "  'duration': 3.48},\n",
       " {'text': \"There's no scroll down, there's no arrow,\",\n",
       "  'start': 137.19,\n",
       "  'duration': 2.61},\n",
       " {'text': \"there's no other option to click.\",\n",
       "  'start': 139.8,\n",
       "  'duration': 2.04},\n",
       " {'text': \"That's because English\\nis the only language\",\n",
       "  'start': 141.84,\n",
       "  'duration': 2.61},\n",
       " {'text': 'that this transcript is available in.',\n",
       "  'start': 144.45,\n",
       "  'duration': 2.13},\n",
       " {'text': \"So here's a video from my channel.\",\n",
       "  'start': 146.58,\n",
       "  'duration': 3.0},\n",
       " {'text': 'As you can see, when I open the video,',\n",
       "  'start': 149.58,\n",
       "  'duration': 2.1},\n",
       " {'text': 'it first shows in English,', 'start': 151.68, 'duration': 2.22},\n",
       " {'text': \"but there's a scroll down\\narrow beside the language.\",\n",
       "  'start': 153.9,\n",
       "  'duration': 4.143},\n",
       " {'text': 'If I click that arrow, I can\\nsee all the different languages',\n",
       "  'start': 158.88,\n",
       "  'duration': 4.5},\n",
       " {'text': 'that this video is available in.',\n",
       "  'start': 163.38,\n",
       "  'duration': 2.25},\n",
       " {'text': 'So hopefully this video has clarified',\n",
       "  'start': 165.63,\n",
       "  'duration': 2.58},\n",
       " {'text': 'how to open the transcripts in YouTube',\n",
       "  'start': 168.21,\n",
       "  'duration': 2.64},\n",
       " {'text': \"as you're watching videos.\", 'start': 170.85, 'duration': 1.383}]"
      ]
     },
     "execution_count": 16,
     "metadata": {},
     "output_type": "execute_result"
    }
   ],
   "source": [
    "transcripts"
   ]
  },
  {
   "cell_type": "code",
   "execution_count": 17,
   "id": "6e5b4bf5",
   "metadata": {},
   "outputs": [],
   "source": [
    "txt = \"\"\n",
    "\n",
    "for i in transcripts:\n",
    "    try:\n",
    "        txt += f\"Text: {i['text']} Start: {i['start']}\\n\"\n",
    "    except KeyError:\n",
    "        pass"
   ]
  },
  {
   "cell_type": "code",
   "execution_count": 18,
   "id": "b654ac7e",
   "metadata": {},
   "outputs": [
    {
     "data": {
      "text/plain": [
       "'Text: - [Instructor] Hi, everybody. Start: 0.6\\nText: Today, I\\'m going to show you the new way Start: 1.62\\nText: to see transcripts on YouTube videos. Start: 4.2\\nText: YouTube recently changed the way Start: 7.44\\nText: that you can see the transcripts, Start: 8.97\\nText: and they made it a lot easier. Start: 10.98\\nText: So here\\'s how you do it. Start: 12.84\\nText: You open up the video you want, Start: 14.79\\nText: then you scroll down to the description. Start: 16.8\\nText: Now, in the past, you would\\nclick onto these three dots Start: 20.91\\nText: to view the transcript. Start: 25.23\\nText: But that\\'s totally different now. Start: 26.85\\nText: You do not click on the three dots. Start: 28.92\\nText: What you do is you go to the\\ndescription and click \"More.\" Start: 31.26\\nText: Then you scroll all the way to the bottom Start: 35.76\\nText: of the items in the description, Start: 39.54\\nText: and there, you\\'ll see a little button Start: 43.32\\nText: that says \"Show Transcript.\" Start: 45.45\\nText: You click onto that button, Start: 48.48\\nText: and then YouTube takes you automatically Start: 50.43\\nText: back up to the video\\nand displays transcript Start: 52.53\\nText: along the side of the video. Start: 56.31\\nText: And if we play the video, we\\nwill see that the transcript Start: 58.47\\nText: follows the narration in the video Start: 63.57\\nText: and shows you all of the timestamps. Start: 65.55\\nText: - [Podcaster] Between the psychology\\nof self, self-exploration, Start: 67.86\\nText: and the psychology of human interaction, Start: 71.28\\nText: all rooted in history and modern. Start: 73.32\\nText: - [Instructor] So that\\'s\\nhow you see the transcript. Start: 76.05\\nText: Some users want to remove the\\ntimestamps in the transcript. Start: 78.99\\nText: To do that, you can\\nclick these three dots, Start: 84.39\\nText: click \"Toggle Timestamps,\" Start: 87.24\\nText: and then you see that the\\ntimestamps have been removed. Start: 89.82\\nText: One question that a lot of YouTubers have Start: 93.18\\nText: is whether they can\\nview a video transcript Start: 96.09\\nText: in multiple languages.\\nUnfortunately, right now, Start: 99.09\\nText: the answer is often \"no,\" Start: 103.5\\nText: because YouTube does not\\nauto-translate transcripts. Start: 106.02\\nText: Luckily, YouTube does\\nauto-translate subtitles Start: 111.42\\nText: and captions, just not the transcripts. Start: 116.01\\nText: So how do you know the difference? Start: 119.97\\nText: To see whether I can view this transcript Start: 122.13\\nText: in other languages, I\\'ll\\ngo to the bottom here, Start: 124.5\\nText: and you see that the\\nlanguage we are seeing, Start: 128.25\\nText: the transcript in is English. Start: 131.25\\nText: If I click on to English, nothing happens. Start: 133.71\\nText: There\\'s no scroll down, there\\'s no arrow, Start: 137.19\\nText: there\\'s no other option to click. Start: 139.8\\nText: That\\'s because English\\nis the only language Start: 141.84\\nText: that this transcript is available in. Start: 144.45\\nText: So here\\'s a video from my channel. Start: 146.58\\nText: As you can see, when I open the video, Start: 149.58\\nText: it first shows in English, Start: 151.68\\nText: but there\\'s a scroll down\\narrow beside the language. Start: 153.9\\nText: If I click that arrow, I can\\nsee all the different languages Start: 158.88\\nText: that this video is available in. Start: 163.38\\nText: So hopefully this video has clarified Start: 165.63\\nText: how to open the transcripts in YouTube Start: 168.21\\nText: as you\\'re watching videos. Start: 170.85\\n'"
      ]
     },
     "execution_count": 18,
     "metadata": {},
     "output_type": "execute_result"
    }
   ],
   "source": [
    "txt"
   ]
  }
 ],
 "metadata": {
  "kernelspec": {
   "display_name": "youtube_summarizer_rag",
   "language": "python",
   "name": "python3"
  },
  "language_info": {
   "codemirror_mode": {
    "name": "ipython",
    "version": 3
   },
   "file_extension": ".py",
   "mimetype": "text/x-python",
   "name": "python",
   "nbconvert_exporter": "python",
   "pygments_lexer": "ipython3",
   "version": "3.12.9"
  }
 },
 "nbformat": 4,
 "nbformat_minor": 5
}
