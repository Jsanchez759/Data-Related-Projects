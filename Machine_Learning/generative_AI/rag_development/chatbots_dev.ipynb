{
 "cells": [
  {
   "cell_type": "markdown",
   "metadata": {},
   "source": [
    "Desarrollo de Chatbot sin RAG"
   ]
  },
  {
   "cell_type": "code",
   "execution_count": 1,
   "metadata": {},
   "outputs": [
    {
     "name": "stderr",
     "output_type": "stream",
     "text": [
      "c:\\Users\\jesus\\anaconda3\\envs\\nexos_prueba\\Lib\\site-packages\\tqdm\\auto.py:21: TqdmWarning: IProgress not found. Please update jupyter and ipywidgets. See https://ipywidgets.readthedocs.io/en/stable/user_install.html\n",
      "  from .autonotebook import tqdm as notebook_tqdm\n"
     ]
    }
   ],
   "source": [
    "from transformers import (\n",
    "    T5Tokenizer,\n",
    "    T5ForConditionalGeneration,\n",
    "    AutoTokenizer,\n",
    "    AutoModel,\n",
    ")\n",
    "import warnings\n",
    "import time\n",
    "import os\n",
    "from dotenv import load_dotenv\n",
    "from datasets import load_dataset\n",
    "import torch\n",
    "import pandas as pd\n",
    "\n",
    "from pinecone import Pinecone\n",
    "from pinecone import ServerlessSpec\n",
    "\n",
    "warnings.filterwarnings(\"ignore\")"
   ]
  },
  {
   "cell_type": "code",
   "execution_count": 2,
   "metadata": {},
   "outputs": [
    {
     "name": "stderr",
     "output_type": "stream",
     "text": [
      "You are using the default legacy behaviour of the <class 'transformers.models.t5.tokenization_t5.T5Tokenizer'>. This is expected, and simply means that the `legacy` (previous) behavior will be used so nothing changes for you. If you want to use the new behaviour, set `legacy=False`. This should only be set if you understand what it means, and thoroughly read the reason why this was added as explained in https://github.com/huggingface/transformers/pull/24565\n",
      "Special tokens have been added in the vocabulary, make sure the associated word embeddings are fine-tuned or trained.\n"
     ]
    }
   ],
   "source": [
    "tokenizer_flat = T5Tokenizer.from_pretrained(\"google/flan-t5-large\")\n",
    "model_flat = T5ForConditionalGeneration.from_pretrained(\"google/flan-t5-large\")"
   ]
  },
  {
   "cell_type": "code",
   "execution_count": 3,
   "metadata": {},
   "outputs": [],
   "source": [
    "input_text = \"Please answer to the following question. What is the function of the viral KP4 protein?\""
   ]
  },
  {
   "cell_type": "code",
   "execution_count": 4,
   "metadata": {},
   "outputs": [
    {
     "name": "stdout",
     "output_type": "stream",
     "text": [
      "<pad> cytokine</s>\n"
     ]
    }
   ],
   "source": [
    "input_ids = tokenizer_flat(input_text, return_tensors=\"pt\").input_ids\n",
    "\n",
    "outputs = model_flat.generate(input_ids)\n",
    "print(tokenizer_flat.decode(outputs[0]))"
   ]
  },
  {
   "cell_type": "markdown",
   "metadata": {},
   "source": [
    "Desarrollo de Chatbot con RAG"
   ]
  },
  {
   "cell_type": "code",
   "execution_count": 35,
   "metadata": {},
   "outputs": [],
   "source": [
    "# Uso de base de datos vectorial como pinecone\n",
    "load_dotenv()\n",
    "api_key = os.getenv(\"PINECONE_KEY\")\n",
    "pc = Pinecone(api_key=api_key)\n",
    "spec = ServerlessSpec(cloud=\"aws\", region=\"us-east-1\")\n",
    "\n",
    "index_name = \"chatbot-rag\"\n",
    "if index_name not in [index_info[\"name\"] for index_info in pc.list_indexes()]:\n",
    "    pc.create_index(name=index_name, dimension=384, metric=\"cosine\", spec=spec)\n",
    "\n",
    "while not pc.describe_index(index_name).status[\"ready\"]:\n",
    "    time.sleep(1)\n",
    "\n",
    "index = pc.Index(index_name)"
   ]
  },
  {
   "cell_type": "code",
   "execution_count": 26,
   "metadata": {},
   "outputs": [
    {
     "data": {
      "text/plain": [
       "{'dimension': 384,\n",
       " 'index_fullness': 0.0,\n",
       " 'namespaces': {},\n",
       " 'total_vector_count': 0}"
      ]
     },
     "execution_count": 26,
     "metadata": {},
     "output_type": "execute_result"
    }
   ],
   "source": [
    "index.describe_index_stats()"
   ]
  },
  {
   "cell_type": "code",
   "execution_count": 36,
   "metadata": {},
   "outputs": [
    {
     "data": {
      "text/plain": [
       "Dataset({\n",
       "    features: ['question', 'answer', 'relevant_passage_ids', 'id'],\n",
       "    num_rows: 4719\n",
       "})"
      ]
     },
     "execution_count": 36,
     "metadata": {},
     "output_type": "execute_result"
    }
   ],
   "source": [
    "dataset = load_dataset(\"rag-datasets/rag-mini-bioasq\", \"question-answer-passages\", split='test')\n",
    "dataset"
   ]
  },
  {
   "cell_type": "code",
   "execution_count": 11,
   "metadata": {},
   "outputs": [],
   "source": [
    "tokenizer = AutoTokenizer.from_pretrained(\"sentence-transformers/all-MiniLM-L6-v2\")\n",
    "model = AutoModel.from_pretrained(\"sentence-transformers/all-MiniLM-L6-v2\")"
   ]
  },
  {
   "cell_type": "code",
   "execution_count": 12,
   "metadata": {},
   "outputs": [],
   "source": [
    "def embed_text(text):\n",
    "    inputs = tokenizer(text, return_tensors=\"pt\", truncation=True, padding=True)\n",
    "    with torch.no_grad():\n",
    "        outputs = model(**inputs)\n",
    "    return outputs.last_hidden_state.mean(dim=1).squeeze().numpy()"
   ]
  },
  {
   "cell_type": "code",
   "execution_count": 37,
   "metadata": {},
   "outputs": [],
   "source": [
    "# Indexar los datos\n",
    "data = dataset.to_pandas().reset_index()\n",
    "\n",
    "batch_size = 100\n",
    "\n",
    "for i in range(0, len(data), batch_size):\n",
    "    i_end = min(len(data), i + batch_size)\n",
    "    batch = data.iloc[i:i_end]\n",
    "    ids = [f\"{x['index']}\" for i, x in batch.iterrows()]\n",
    "    texts = [\n",
    "        \"Question: \" + x[\"question\"] + \", Answer: \" + x[\"answer\"]\n",
    "        for _, x in batch.iterrows()\n",
    "    ]\n",
    "    embeds = [\n",
    "        embed_text(\"Question: \" + x[\"question\"] + \", Answer: \" + x[\"answer\"])\n",
    "        for _, x in batch.iterrows()\n",
    "    ]\n",
    "    metadata = [\n",
    "        {\"question\": x[\"question\"], \"answer\": x[\"answer\"]} for i, x in batch.iterrows()\n",
    "    ]\n",
    "    index.upsert(vectors=zip(ids, embeds, metadata))"
   ]
  },
  {
   "cell_type": "code",
   "execution_count": 38,
   "metadata": {},
   "outputs": [
    {
     "data": {
      "text/plain": [
       "{'dimension': 384,\n",
       " 'index_fullness': 0.0,\n",
       " 'namespaces': {'': {'vector_count': 4719}},\n",
       " 'total_vector_count': 4719}"
      ]
     },
     "execution_count": 38,
     "metadata": {},
     "output_type": "execute_result"
    }
   ],
   "source": [
    "index.describe_index_stats()"
   ]
  },
  {
   "cell_type": "code",
   "execution_count": 39,
   "metadata": {},
   "outputs": [
    {
     "name": "stdout",
     "output_type": "stream",
     "text": [
      "0.82: The main function of PABPC4 is in mRNA stability and translation initiation. PABPC4 may also play a role in chronic inflammation and in the pathogenesis of colorectal cancer.\n",
      "0.8: The virally encoded fungal toxin KP4  specifically blocks L-type voltage-gated calcium channels.\n",
      "0.7: The protein function as an Na-K-Cl cotransporter.\n"
     ]
    }
   ],
   "source": [
    "# Hacer querys al index\n",
    "query = input_text\n",
    "\n",
    "query_embedding = embed_text(query)\n",
    "results = index.query(vector=query_embedding.tolist(), top_k=3, include_metadata=True)\n",
    "for result in results[\"matches\"]:\n",
    "    print(f\"{round(result['score'], 2)}: {result['metadata']['answer']}\")"
   ]
  },
  {
   "cell_type": "code",
   "execution_count": 21,
   "metadata": {},
   "outputs": [],
   "source": [
    "retrieved_docs = [\n",
    "    \"Question: \"\n",
    "    + match[\"metadata\"][\"question\"]\n",
    "    + \", Answer: \"\n",
    "    + match[\"metadata\"][\"answer\"]\n",
    "    for match in results[\"matches\"]\n",
    "]"
   ]
  },
  {
   "cell_type": "code",
   "execution_count": 22,
   "metadata": {},
   "outputs": [
    {
     "data": {
      "text/plain": [
       "'The virally encoded fungal toxin KP4 specifically blocks L-type voltage'"
      ]
     },
     "execution_count": 22,
     "metadata": {},
     "output_type": "execute_result"
    }
   ],
   "source": [
    "input_text = f\"Please use this context {\" \".join(retrieved_docs)} to answer the following question {query}\"\n",
    "input_ids = tokenizer_flat(input_text, return_tensors=\"pt\").input_ids\n",
    "outputs = model_flat.generate(input_ids)\n",
    "response = tokenizer_flat.decode(outputs[0], skip_special_tokens=True)\n",
    "response"
   ]
  },
  {
   "cell_type": "code",
   "execution_count": 34,
   "metadata": {},
   "outputs": [],
   "source": [
    "pc.delete_index(index_name)"
   ]
  }
 ],
 "metadata": {
  "kernelspec": {
   "display_name": "nexos_prueba",
   "language": "python",
   "name": "python3"
  },
  "language_info": {
   "codemirror_mode": {
    "name": "ipython",
    "version": 3
   },
   "file_extension": ".py",
   "mimetype": "text/x-python",
   "name": "python",
   "nbconvert_exporter": "python",
   "pygments_lexer": "ipython3",
   "version": "3.12.4"
  }
 },
 "nbformat": 4,
 "nbformat_minor": 2
}
