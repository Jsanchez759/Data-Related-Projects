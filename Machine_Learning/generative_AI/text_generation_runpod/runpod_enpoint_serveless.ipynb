{
 "cells": [
  {
   "cell_type": "code",
   "execution_count": 1,
   "metadata": {},
   "outputs": [
    {
     "name": "stderr",
     "output_type": "stream",
     "text": [
      "c:\\Users\\jesus\\anaconda3\\envs\\runpod_endpoint\\Lib\\site-packages\\tqdm\\auto.py:21: TqdmWarning: IProgress not found. Please update jupyter and ipywidgets. See https://ipywidgets.readthedocs.io/en/stable/user_install.html\n",
      "  from .autonotebook import tqdm as notebook_tqdm\n"
     ]
    }
   ],
   "source": [
    "import config, os, runpod\n",
    "os.environ['RUNPOD_API_KEY'] = config.RUNPOD_API_KEY"
   ]
  },
  {
   "cell_type": "code",
   "execution_count": 10,
   "metadata": {},
   "outputs": [
    {
     "name": "stdout",
     "output_type": "stream",
     "text": [
      "Initialized endpoint: lrlpopd6tvfmfc\n"
     ]
    }
   ],
   "source": [
    "runpod.api_key = os.getenv(\"RUNPOD_API_KEY\")\n",
    "endpoint = runpod.Endpoint(\"lrlpopd6tvfmfc\")"
   ]
  },
  {
   "cell_type": "code",
   "execution_count": 11,
   "metadata": {},
   "outputs": [],
   "source": [
    "def generate_prompt(prompt):\n",
    "    return f\"\"\"\n",
    "    [INST] <<SYS>>\n",
    "    You are a helpful, respectful and honest assistant. Always answer as helpfully as possible, while being safe.  Your answers should not include any harmful, unethical, racist, sexist, toxic, dangerous, or illegal content. Please ensure that your responses are socially unbiased and positive in nature. If a question does not make any sense, or is not factually coherent, explain why instead of answering something not correct. If you don't know the answer to a question, please don't share false information.\n",
    "    <</SYS>>\n",
    "{prompt}[/INST]\n",
    "\n",
    "    \"\"\".strip()"
   ]
  },
  {
   "cell_type": "code",
   "execution_count": 21,
   "metadata": {},
   "outputs": [
    {
     "name": "stdout",
     "output_type": "stream",
     "text": [
      "Started job: 3f46c8ac-65ad-4955-bdf8-2c982de6be5d-u1\n",
      "IN_PROGRESS\n",
      "  Hello! I'm here to help answer your questions safely and positively. To answer your question, Lionel Messi is an Argentine professional footballer who plays as a forward for Spanish club Barcelona and the Argentina national team. He is widely regarded as one of the greatest players in the history of football (soccer). Messi has won numerous awards and accolades throughout his career, including six Ballon d'Or awards, ten La Liga titles, and four UEFA Champions League titles. He is known for his exceptional skill, speed, and goal-scoring ability, and is considered one of the most successful and iconic athletes in the world. Is there anything else you would like to know about Messi or football?\n"
     ]
    }
   ],
   "source": [
    "prompt = generate_prompt('Who is messi?')\n",
    "\n",
    "run_request = endpoint.run(\n",
    "    {\"prompt\": prompt,\n",
    "     \"max_new_tokens\": 500}\n",
    ")\n",
    "\n",
    "a = run_request.status()\n",
    "print(a)\n",
    "if a != 'COMPLETED':\n",
    "    print(run_request.output())\n",
    "else:\n",
    "    print(run_request.output())"
   ]
  },
  {
   "cell_type": "code",
   "execution_count": 24,
   "metadata": {},
   "outputs": [
    {
     "data": {
      "text/plain": [
       "'$0.00088000'"
      ]
     },
     "execution_count": 24,
     "metadata": {},
     "output_type": "execute_result"
    }
   ],
   "source": [
    "'${:,.8f}'.format(round(0.00044*2,7))"
   ]
  },
  {
   "cell_type": "code",
   "execution_count": 19,
   "metadata": {},
   "outputs": [
    {
     "data": {
      "text/plain": [
       "'COMPLETED'"
      ]
     },
     "execution_count": 19,
     "metadata": {},
     "output_type": "execute_result"
    }
   ],
   "source": [
    "run_request.status()"
   ]
  }
 ],
 "metadata": {
  "kernelspec": {
   "display_name": "llm_projects",
   "language": "python",
   "name": "python3"
  },
  "language_info": {
   "codemirror_mode": {
    "name": "ipython",
    "version": 3
   },
   "file_extension": ".py",
   "mimetype": "text/x-python",
   "name": "python",
   "nbconvert_exporter": "python",
   "pygments_lexer": "ipython3",
   "version": "3.11.5"
  }
 },
 "nbformat": 4,
 "nbformat_minor": 2
}
